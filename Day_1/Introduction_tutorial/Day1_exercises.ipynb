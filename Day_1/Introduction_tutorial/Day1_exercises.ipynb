{
 "cells": [
  {
   "cell_type": "markdown",
   "metadata": {},
   "source": [
    "# Introduction to Python - Day 1\n",
    "\n",
    "## Exercises\n",
    "\n",
    "The following are a series of exercises in increasing order of difficulty that incorporate the topics covered during the Introduction."
   ]
  },
  {
   "cell_type": "markdown",
   "metadata": {},
   "source": [
    "**Exercise 1:**\n",
    "    \n",
    "Write a *function* called `exercise1(x,y)` that prints the sum and product of the\n",
    "numbers `x` and `y` on separate lines, the sum printing first."
   ]
  },
  {
   "cell_type": "code",
   "execution_count": 10,
   "metadata": {},
   "outputs": [
    {
     "name": "stdout",
     "output_type": "stream",
     "text": [
      "5\n",
      "6\n"
     ]
    }
   ],
   "source": [
    "def exercise1(x,y):\n",
    "    add = x+y\n",
    "    mult = x*y\n",
    "    print(add)\n",
    "    print(mult)\n",
    "    \n",
    "exercise1(2,3)\n",
    "    "
   ]
  },
  {
   "cell_type": "markdown",
   "metadata": {},
   "source": [
    "**Exercise 2:**\n",
    "\n",
    "Write a function called `exercise2(n)` that adds up the numbers 1 through n and\n",
    "prints out the result. You should use either a `while` loop or a `for` loop.\n",
    "Be sure that you check your answer on several numbers n.  Be careful that your\n",
    "loop steps through all the numbers from 1 through and including n.\n",
    "\n",
    "Tip: As this involves a loop you could make an error that causes it to run \n",
    "forever. Usually Control-C will stop it. With loops, take care that your first and \n",
    "last iterations are what you expect. A print statement can be inserted in the loop \n",
    "to monitor it while you are working through the program."
   ]
  },
  {
   "cell_type": "code",
   "execution_count": 23,
   "metadata": {},
   "outputs": [
    {
     "name": "stdout",
     "output_type": "stream",
     "text": [
      "21\n"
     ]
    }
   ],
   "source": [
    "def exercise2(n):\n",
    "    a = 0\n",
    "    total = 0\n",
    "    while a <= n:\n",
    "        a += 1\n",
    "        total+= a\n",
    "    print(total)\n",
    "    \n",
    "exercise2(5)"
   ]
  },
  {
   "cell_type": "markdown",
   "metadata": {},
   "source": [
    "**Exercise 3:**\n",
    "\n",
    "Write a function called `exercise3(miles)` that converts miles to feet. There are\n",
    "5280 feet in each mile. Make the program print out the following statement:\n",
    "\"There are 10560 feet in 2 miles.\"\n"
   ]
  },
  {
   "cell_type": "code",
   "execution_count": 35,
   "metadata": {},
   "outputs": [
    {
     "name": "stdout",
     "output_type": "stream",
     "text": [
      "There are 15840 feet in 3 miles.\n"
     ]
    }
   ],
   "source": [
    "def exercise3(miles):\n",
    "    feet = miles*5280\n",
    "    print('There are',feet,'feet in',miles,'miles.')\n",
    "    \n",
    "exercise3(3)"
   ]
  },
  {
   "cell_type": "markdown",
   "metadata": {},
   "source": [
    "**Exercise 4:**\n",
    "\n",
    "Write a function called `exercise4(age)`. This function should use `if`-`elif`-`else`\n",
    "statement to print out \"Have a glass of milk.\" for anyone under 7; \"Have\n",
    "a coke.\" for anyone under 21, and \"Have a martini.\" for anyone 21 or older.\n",
    "\n",
    "Tip: Be careful about the ages 7 (a seven year old is not under 7) and 21."
   ]
  },
  {
   "cell_type": "code",
   "execution_count": 29,
   "metadata": {},
   "outputs": [
    {
     "name": "stdout",
     "output_type": "stream",
     "text": [
      "Have a glass of milk.\n"
     ]
    }
   ],
   "source": [
    "def exercise4(age):\n",
    "    if 0 <= age < 7:\n",
    "        print('Have a glass of milk.')\n",
    "    elif 7 <= age < 21:\n",
    "        print('Have a coke.')\n",
    "    elif age >= 21:\n",
    "        print('Have a martini.')\n",
    "    elif age < 0:\n",
    "        print('Invalid age.')\n",
    "\n",
    "exercise4(0)"
   ]
  },
  {
   "cell_type": "markdown",
   "metadata": {},
   "source": [
    "**Exercise 5:**\n",
    "\n",
    "Write a function called `exercise5()` that prints odd numbers from 1 through 100.\n",
    "Make all of these numbers appear on the same line (when the line\n",
    "fills up it will wrap, but ignore that). In order to do this, your\n",
    "print statement should have `end=\" \"` in it. For example, `print(name,end=\" \")` \n",
    "will keep the next print statement from starting a new line. Be sure there is a\n",
    "space between these quotes or your numbers will run together. Use a `for` loop \n",
    "and a `range()` function. \n",
    "\n",
    "(Things to be careful of that might go wrong: you print too many numbers, you\n",
    "put too many spaces or no spaces, you print each number on its \n",
    "own line, you print even numbers or all numbers, your first number isn't 1 or\n",
    "your last number isn't 99.  Always check the first and last outputs when you write\n",
    "a loop.)"
   ]
  },
  {
   "cell_type": "code",
   "execution_count": 34,
   "metadata": {},
   "outputs": [
    {
     "name": "stdout",
     "output_type": "stream",
     "text": [
      "1 3 5 7 9 11 13 15 17 19 21 23 25 27 29 31 33 35 37 39 41 43 45 47 49 51 53 55 57 59 61 63 65 67 69 71 73 75 77 79 81 83 85 87 89 91 93 95 97 99 "
     ]
    }
   ],
   "source": [
    "def exercise5():\n",
    "    value = 1\n",
    "    print(value,end=\" \")\n",
    "    while value < 99:\n",
    "        value += 2\n",
    "        print(value,end=\" \")\n",
    "        \n",
    "exercise5()"
   ]
  },
  {
   "cell_type": "markdown",
   "metadata": {},
   "source": [
    "**Exercise 6:**\n",
    "\n",
    "Write a function called `exercise6()` that computes the area of a trapezoid. Here is the\n",
    "formula: `A = (1/2)(b1+b2)h`. In the formula `b1` is the length of one of the \n",
    "bases, `b2` the other. The height is `h` and the area is `A`. Use input statements to ask \n",
    "for the bases and the height. Convert these input strings to real numbers using `float()`. \n",
    "\n",
    "Use input statements like these:\n",
    "- Enter the length of one of the bases: \n",
    "\n",
    "- Enter the length of the other base: \n",
    "\n",
    "- Enter the height: \n",
    "\n",
    "Use an output statement like this:\n",
    "- The area of a trapezoid with bases `__` and `__` and height `__` is `__`."
   ]
  },
  {
   "cell_type": "code",
   "execution_count": 55,
   "metadata": {},
   "outputs": [
    {
     "name": "stdout",
     "output_type": "stream",
     "text": [
      "Enter the length of one of the bases: 2\n",
      "Enter the length of the other base: 3\n",
      "Enter the height: 4\n",
      "The area is 10.0\n"
     ]
    }
   ],
   "source": [
    "def exercise6():\n",
    "    b1 = float(input('Enter the length of one of the bases: '))\n",
    "    b2 = float(input('Enter the length of the other base: '))\n",
    "    h = float(input('Enter the height: '))\n",
    "    A = (1/2)*(b1+b2)*h\n",
    "    print('The area is',str(A))\n",
    "    \n",
    "exercise6()"
   ]
  },
  {
   "cell_type": "markdown",
   "metadata": {},
   "source": [
    "**Exercise 7:**\n",
    "\n",
    "Write a function called `exercise7()` that sets a variable `li = list(range(20,30))` and\n",
    "does all of the following, each on a separate line: \n",
    "- print the element of list with the index `4`\n",
    "- prints the list itself\n",
    "- write a `for` loop that prints out every element of list. Recall that `len()` will give you the length of such a data collection if you need that. Use `end=\" \"` to put one space between the elements of the list `li`."
   ]
  },
  {
   "cell_type": "code",
   "execution_count": 54,
   "metadata": {},
   "outputs": [
    {
     "name": "stdout",
     "output_type": "stream",
     "text": [
      "24\n",
      "[20, 21, 22, 23, 24, 25, 26, 27, 28, 29]\n",
      "20\n",
      "21\n",
      "22\n",
      "23\n",
      "24\n",
      "25\n",
      "26\n",
      "27\n",
      "28\n",
      "29\n"
     ]
    }
   ],
   "source": [
    "def exercise7():\n",
    "    li = list(range(20,30))\n",
    "    print(li[4])\n",
    "    print(li)\n",
    "    for i in li:\n",
    "        print(i)\n",
    "\n",
    "exercise7()\n",
    "    \n"
   ]
  },
  {
   "cell_type": "markdown",
   "metadata": {},
   "source": [
    "**Exercise 8:**\n",
    "\n",
    "Write a function `exercise8()` that takes a list called `my_list` and does all of the following, each on a separate line. Recall that lists start numbering with an index of 0.\n",
    "- print the whole list\n",
    "- print the item with index 0\n",
    "- print the last item in the list\n",
    "- print the items with indexes 3 through 5 but not including 5\n",
    "- print the items up to the one with index 3 but not including item 3\n",
    "- print the items starting at index 3 and going through the end.\n",
    "- print the length of the list (use `len()`)\n",
    "- Use the `append()` method of a list to append the letter `z` onto a list and print the list with `z` appended.\n",
    "\n",
    "Use `my_list = ['Keanu', 'River', 'Leonardo', 'Brad', 'A', '1998']`"
   ]
  },
  {
   "cell_type": "code",
   "execution_count": 58,
   "metadata": {},
   "outputs": [
    {
     "name": "stdout",
     "output_type": "stream",
     "text": [
      "Keanu\n",
      "River\n",
      "Leonardo\n",
      "Brad\n",
      "A\n",
      "1998\n",
      "Keanu\n",
      "1998\n",
      "['Brad', 'A']\n",
      "['Keanu', 'River', 'Leonardo']\n",
      "['Brad', 'A', '1998']\n",
      "6\n",
      "Keanu\n",
      "River\n",
      "Leonardo\n",
      "Brad\n",
      "A\n",
      "1998\n",
      "z\n"
     ]
    }
   ],
   "source": [
    "def exercise8(my_list):\n",
    "    for i in my_list:\n",
    "        print(i)\n",
    "    print(my_list[0])\n",
    "    print(my_list[-1])\n",
    "    print(my_list[3:5])\n",
    "    print(my_list[:3])\n",
    "    print(my_list[3:])\n",
    "    print(len(my_list))\n",
    "    my_list.append('z')\n",
    "    for j in my_list:\n",
    "        print(j)\n",
    "\n",
    "my_list = ['Keanu', 'River', 'Leonardo', 'Brad', 'A', '1998']\n",
    "exercise8(my_list)"
   ]
  },
  {
   "cell_type": "markdown",
   "metadata": {},
   "source": [
    "**Exercise 9:**\n",
    "\n",
    "Write a function `exercise9(txtfilename)` that reads the text file `day1.txt` and counts the number of characters in \n",
    "it.  Print both the text file and the number of characters. Do this so that the \n",
    "printout isn't doubled space (use an `end=\"\"`  argument in the print statement). \n",
    "Also, skip a line before printing the count. Recall that you can get the \n",
    "number of characters in each line using the `len()` function."
   ]
  },
  {
   "cell_type": "code",
   "execution_count": 63,
   "metadata": {},
   "outputs": [
    {
     "name": "stdout",
     "output_type": "stream",
     "text": [
      "Barber, barber, shave a pig.\n",
      " How many hairs will make a wig?\n",
      " Four and twenty; that's enough.\n",
      " Give the barber a pinch of snuff. \n",
      "\n",
      "\n",
      " 126\n"
     ]
    }
   ],
   "source": [
    "def exercise9():\n",
    "    f = open('day1.txt','r')\n",
    "    lineNum = 0\n",
    "    for line in f:\n",
    "        lineNum+=len(line)\n",
    "        print(line,end=\" \")\n",
    "    print('\\n')\n",
    "    print('\\n',lineNum)\n",
    "    f.close()\n",
    "\n",
    "exercise9()"
   ]
  },
  {
   "cell_type": "markdown",
   "metadata": {},
   "source": [
    "**Exercise 10:** \n",
    "    \n",
    "Write a function called `exercise10(month, day, year)` that \n",
    "will convert a date such as `June 3, 2019` into the format `6/3/2019`.  Use a dictionary to convert from the name of the month to the number of the month.  For example `months = {\"January\":1, \"February\":2, ...}` will make it easy to look up the month number as `months[\"February\"]` and so on.\n",
    "- Tip: In print statements, commas create a space.  So you may have difficulty avoiding a space between the 6, 3, and 2019.  Build the output as a single string containing the properly formatted date and then print that.  You can convert any number to string by using `str()` and then tie the parts together using +. "
   ]
  },
  {
   "cell_type": "code",
   "execution_count": 64,
   "metadata": {},
   "outputs": [
    {
     "name": "stdout",
     "output_type": "stream",
     "text": [
      "1 / 5 / 1992\n"
     ]
    }
   ],
   "source": [
    "def exercise10(month,day,year):\n",
    "    months = {\"January\":1, \"February\":2, \"March\":3, \"April\":4, \"May\":5, \"June\":6,\"July\":7,\"August\":8, \"September\":9, \n",
    "             \"October\":10, \"November\":11, \"December\":12}\n",
    "    print(months[month],'/',day,'/',year)\n",
    "\n",
    "exercise10(\"January\",5,1992)"
   ]
  },
  {
   "cell_type": "markdown",
   "metadata": {},
   "source": [
    "**Exercise 11:**\n",
    "\n",
    "Write a function called `exercise11_a()` that will add an element and its atomic weight to the incomplete dictionary `alkali_metals`. Then write a function called `exercise11_b(name)` that will look up the atomic weight given an element using the updated dictionary. In it's simplest form, the program will crash if a name that isn't in its dictionary is asked for, but you can incorporate an if-else statement to improve the program.\n",
    "\n",
    "alkali_metals = {\"lithium\": 6.94, \"sodium\": 22.99, \"potassium\": 39.10, \"rubidium\": 85.47, \"cesium': 132.91}"
   ]
  },
  {
   "cell_type": "code",
   "execution_count": 72,
   "metadata": {},
   "outputs": [],
   "source": [
    "alkali_metals = {\"lithium\":6.94, \"sodium\":22.99, \"potassium\":39.10, \"rubidium\":85.47, \"cesium\":132.91}\n",
    "def exercise11_a(element,weight):\n",
    "    alkali_metals.update[(element,weight)]\n",
    "def exercise11_b(name):\n",
    "    alkali_metals.get(name)\n",
    "exercise11_b('cesium')"
   ]
  },
  {
   "cell_type": "markdown",
   "metadata": {},
   "source": [
    "**Exercise 12:**\n",
    "\n",
    "Write a function called `exercise12()` that will read in the CSV file `periodictable.csv` to a dictionary and then looks up and prints out the atomic number and symbol for `calcium`. Don't forget to import the csv library and make sure the program works whether or not the element string `calcium` is capitalized or not. The dictionary key should be element and the values should be the atomic number and symbol."
   ]
  },
  {
   "cell_type": "code",
   "execution_count": null,
   "metadata": {},
   "outputs": [],
   "source": [
    "import csv\n",
    "\n",
    "def exercise12()\n",
    "    with open('periodictable.csv') as f\n",
    "        dict = {}\n",
    "        \n",
    "    "
   ]
  },
  {
   "cell_type": "markdown",
   "metadata": {
    "collapsed": true
   },
   "source": [
    "**Exercise 13:**\n",
    "\n",
    "The following code produces an `IndexError` exception for an index of 3. Re-write the code with `try-except-else` statements so that when the error occurs the program doesn't crash abruptly.\n",
    "\n",
    "> abc=[10,20,20]\n",
    "\n",
    "> print(abc[3])"
   ]
  },
  {
   "cell_type": "code",
   "execution_count": 66,
   "metadata": {},
   "outputs": [
    {
     "name": "stdout",
     "output_type": "stream",
     "text": [
      "Invalid index.\n"
     ]
    }
   ],
   "source": [
    "try:\n",
    "    abc=[10,20,20]\n",
    "    print(abc[3])\n",
    "except IndexError:\n",
    "    print('Invalid index.')\n",
    "else:\n",
    "    print('Success.')"
   ]
  },
  {
   "cell_type": "markdown",
   "metadata": {},
   "source": [
    "**Exercise 14:**\n",
    "\n",
    "Improve your code from `Exercise 13` so that it is a callable function that asks for an entry/index via an input statement and prints a list from which you can choose the entry, all while handling the exception error."
   ]
  },
  {
   "cell_type": "code",
   "execution_count": 75,
   "metadata": {},
   "outputs": [
    {
     "ename": "SyntaxError",
     "evalue": "invalid syntax (<ipython-input-75-387f1e5c4ae4>, line 5)",
     "output_type": "error",
     "traceback": [
      "\u001b[0;36m  File \u001b[0;32m\"<ipython-input-75-387f1e5c4ae4>\"\u001b[0;36m, line \u001b[0;32m5\u001b[0m\n\u001b[0;31m    except IndexError:\u001b[0m\n\u001b[0m         ^\u001b[0m\n\u001b[0;31mSyntaxError\u001b[0m\u001b[0;31m:\u001b[0m invalid syntax\n"
     ]
    }
   ],
   "source": [
    "def exercise14():\n",
    "    abc=[10,20,20]\n",
    "    i = int(input('Enter an index: '))\n",
    "    print(abc[i])\n",
    "    except IndexError:\n",
    "        for i in abc\n",
    "            print(i,abc[i])"
   ]
  },
  {
   "cell_type": "code",
   "execution_count": null,
   "metadata": {},
   "outputs": [],
   "source": []
  }
 ],
 "metadata": {
  "kernelspec": {
   "display_name": "Python 3",
   "language": "python",
   "name": "python3"
  },
  "language_info": {
   "codemirror_mode": {
    "name": "ipython",
    "version": 3
   },
   "file_extension": ".py",
   "mimetype": "text/x-python",
   "name": "python",
   "nbconvert_exporter": "python",
   "pygments_lexer": "ipython3",
   "version": "3.7.3"
  }
 },
 "nbformat": 4,
 "nbformat_minor": 2
}
